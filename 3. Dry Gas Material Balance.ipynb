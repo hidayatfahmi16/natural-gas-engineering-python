{
 "cells": [
  {
   "cell_type": "markdown",
   "metadata": {},
   "source": [
    "### Import Module"
   ]
  },
  {
   "cell_type": "code",
   "execution_count": 1,
   "metadata": {},
   "outputs": [],
   "source": [
    "import pandas as pd\n",
    "import numpy as np\n",
    "import matplotlib.pyplot as plt\n",
    "plt.style.use('seaborn')"
   ]
  },
  {
   "cell_type": "markdown",
   "metadata": {},
   "source": [
    "### Load Data"
   ]
  },
  {
   "cell_type": "code",
   "execution_count": 2,
   "metadata": {},
   "outputs": [
    {
     "data": {
      "text/html": [
       "<div>\n",
       "<style scoped>\n",
       "    .dataframe tbody tr th:only-of-type {\n",
       "        vertical-align: middle;\n",
       "    }\n",
       "\n",
       "    .dataframe tbody tr th {\n",
       "        vertical-align: top;\n",
       "    }\n",
       "\n",
       "    .dataframe thead th {\n",
       "        text-align: right;\n",
       "    }\n",
       "</style>\n",
       "<table border=\"1\" class=\"dataframe\">\n",
       "  <thead>\n",
       "    <tr style=\"text-align: right;\">\n",
       "      <th></th>\n",
       "      <th>month</th>\n",
       "      <th>pressure</th>\n",
       "      <th>cumulative</th>\n",
       "    </tr>\n",
       "  </thead>\n",
       "  <tbody>\n",
       "    <tr>\n",
       "      <th>0</th>\n",
       "      <td>0</td>\n",
       "      <td>3500</td>\n",
       "      <td>0</td>\n",
       "    </tr>\n",
       "    <tr>\n",
       "      <th>1</th>\n",
       "      <td>3</td>\n",
       "      <td>3000</td>\n",
       "      <td>218</td>\n",
       "    </tr>\n",
       "    <tr>\n",
       "      <th>2</th>\n",
       "      <td>4</td>\n",
       "      <td>2500</td>\n",
       "      <td>461</td>\n",
       "    </tr>\n",
       "    <tr>\n",
       "      <th>3</th>\n",
       "      <td>9</td>\n",
       "      <td>2000</td>\n",
       "      <td>725</td>\n",
       "    </tr>\n",
       "    <tr>\n",
       "      <th>4</th>\n",
       "      <td>12</td>\n",
       "      <td>1500</td>\n",
       "      <td>1000</td>\n",
       "    </tr>\n",
       "  </tbody>\n",
       "</table>\n",
       "</div>"
      ],
      "text/plain": [
       "   month  pressure  cumulative\n",
       "0      0      3500           0\n",
       "1      3      3000         218\n",
       "2      4      2500         461\n",
       "3      9      2000         725\n",
       "4     12      1500        1000"
      ]
     },
     "execution_count": 2,
     "metadata": {},
     "output_type": "execute_result"
    }
   ],
   "source": [
    "data = pd.DataFrame({\n",
    "    \"month\":[0,3,4,9,12],\n",
    "    \"pressure\":[3500,3000,2500,2000,1500],\n",
    "    \"cumulative\":[0,218,461,725,1000]\n",
    "})\n",
    "data"
   ]
  },
  {
   "cell_type": "markdown",
   "metadata": {},
   "source": [
    "### Functions"
   ]
  },
  {
   "cell_type": "code",
   "execution_count": 3,
   "metadata": {},
   "outputs": [],
   "source": [
    "def CriticalPT(sg,system='natgas',correction='no', co2_frac=0.00, h2s_frac=0.00, n2_frac=0.00):\n",
    "    \n",
    "    #From Tarek Ahmed - Hydrocarbon Phase Behaviour\n",
    "    \n",
    "    #For natural gas system\n",
    "    if system == 'natgas':\n",
    "        tc = 168 + 325*sg - 12.5*(sg**2)\n",
    "        pc = 677 + 15.0*sg - 37.5*(sg**2)\n",
    "    #For gas condensate system\n",
    "    elif system == 'gascon':\n",
    "        tc = 187 + 330*sg - 71.5*(sg**2)\n",
    "        pc = 706 + 51.7*sg - 11.1*(sg**2)\n",
    "    else:\n",
    "        raise Exception(\"Unrecognized system method. Only accept 'natgas' or 'gascon'\")\n",
    "    #Wichert-aziz correction methods\n",
    "    if correction == 'wichert':\n",
    "        bval = h2s_frac\n",
    "        aval = h2s_frac + co2_frac\n",
    "        eps = 120*(aval**0.9 - aval**1.6) + 15*(bval**0.5 - bval**4)\n",
    "        tcnew = tc - eps\n",
    "        pcnew = pc*tcnew/(tc + bval*(1 - bval)*eps)\n",
    "        return pcnew,tcnew\n",
    "    #Carr-kobayashi correction methods\n",
    "    elif correction == 'kobayashi':\n",
    "        tcnew = tc - 80*co2_frac + 130*h2s_frac - 250*n2_frac\n",
    "        pcnew = pc + 440*co2_frac + 600*h2s_frac - 170*n2_frac\n",
    "        return pcnew,tcnew\n",
    "    elif correction == 'no':\n",
    "        return pc,tc\n",
    "    else:\n",
    "        raise Exception(\"Unrecognized correction methods. Only accept 'no', 'wichert' or 'kobayashi'\")  "
   ]
  },
  {
   "cell_type": "code",
   "execution_count": 4,
   "metadata": {},
   "outputs": [],
   "source": [
    "def zFactor(ppr,tpr,method='Dranchuk-Abou Kassem'):\n",
    "    #Papay (1968)\n",
    "    if method == 'Papay':\n",
    "        zfactor = 1 - (ppr/tpr)*(0.36748758 - 0.04188423*(ppr/tpr))\n",
    "        return zfactor\n",
    "    #Hall-Yarborough (1973)\n",
    "    elif method == 'Hall-Yarborough':\n",
    "        ttpr = 1/tpr\n",
    "        aval = 0.06125*ttpr*np.exp(-1.2*((1 - ttpr)**2))\n",
    "        bval = ttpr*(14.76 - 9.76*ttpr + 4.58*(ttpr**2))\n",
    "        cval = ttpr*(90.7 - 242.2*ttpr + 42.4*(ttpr**2))\n",
    "        dval = 2.18 + 2.82*ttpr\n",
    "        yval = 0.061\n",
    "        fval = -1*aval*ppr + (yval + yval**2 + yval**3 - yval**4)/((1 - yval)**3) - bval*(yval**2) + cval*(yval**dval)\n",
    "        error = 999\n",
    "        while (abs(fval) > 0.00000001 and error > 0.00000001):\n",
    "            fval = -1*aval*ppr + (yval + yval**2 + yval**3 - yval**4)/((1 - yval)**3) - bval*(yval**2) + cval*(yval**dval)\n",
    "            dfval = (1 + 4*yval + 4*(yval**2) - 4*(yval**3) + yval**4)/((1 - yval)**4) - 2*bval*yval + cval*dval*(yval**(dval - 1))\n",
    "            nyval = yval - fval/dfval\n",
    "            error = abs(nyval - yval)\n",
    "            yval = nyval\n",
    "        zfactor = aval*ppr/yval\n",
    "        return zfactor\n",
    "        #Dranchuk - Abbu Kassem (1975)\n",
    "    elif method == 'Dranchuk-Abou Kassem':\n",
    "        a = [0.3265, -1.0700, -0.5339, 0.01569, -0.05165, 0.5475, -0.7361, 0.1844, 0.1056, 0.6134, 0.7210]\n",
    "        rho = 0.27*ppr/tpr\n",
    "        zfactor = (a[0] + a[1]/tpr + a[2]/(tpr**3) + a[3]/(tpr**4) + a[4]/(tpr**5))*rho + (a[5] + a[6]/tpr + a[7]/(tpr**2))*(rho**2) - a[8]*(a[6]/tpr + a[7]/(tpr**2))*(rho**5) + a[9]*(1+a[10]*(rho**2))*((rho**2)/(tpr**3))*np.exp(-1*a[10]*(rho**2)) + 1\n",
    "        error = 999\n",
    "        while (error > 0.0001):\n",
    "            rho = 0.27*ppr/(zfactor*tpr)\n",
    "            newzfactor = (a[0] + a[1]/tpr + a[2]/(tpr**3) + a[3]/(tpr**4) + a[4]/(tpr**5))*rho + (a[5] + a[6]/tpr + a[7]/(tpr**2))*(rho**2) - a[8]*(a[6]/tpr + a[7]/(tpr**2))*(rho**5) + a[9]*(1+a[10]*(rho**2))*((rho**2)/(tpr**3))*np.exp(-1*a[10]*(rho**2)) + 1\n",
    "            error = abs((newzfactor - zfactor)/zfactor)\n",
    "            zfactor = newzfactor\n",
    "        return zfactor\n",
    "        #Dranchuk-Purvis-Robinson (1974)\n",
    "    elif method == 'Dranchuk-Purvis':\n",
    "        a = [0.31506237, -1.0467099, -0.57832729, 0.53530771, -0.61232032, -0.10488813, 0.68157001, 0.68446549]\n",
    "        rho = 0.27*ppr/tpr\n",
    "        zfactor = 1 + (a[0] + a[1]/tpr + a[2]/(tpr**3))*rho + (a[3] + a[4]/tpr)*(rho**2) + (a[4]*a[5]/tpr)*(rho**5) + (a[6]/(tpr**3))*(rho**2)*(1+a[7]*(rho**2))*np.exp(-1*a[7]*(rho**2))\n",
    "        error = 999\n",
    "        while (error > 0.0001):\n",
    "            rho = 0.27*ppr/(zfactor*tpr)\n",
    "            newzfactor =  1 + (a[0] + a[1]/tpr + a[2]/(tpr**3))*rho + (a[3] + a[4]/tpr)*(rho**2) + (a[4]*a[5]/tpr)*(rho**5) + (a[6]/(tpr**3))*(rho**2)*(1+a[7]*(rho**2))*np.exp(-1*a[7]*(rho**2))\n",
    "            error = abs((newzfactor - zfactor)/zfactor)\n",
    "            zfactor = newzfactor\n",
    "        return zfactor\n",
    "        #Hankinson-Thomas-Phillips (1969)\n",
    "    elif method == 'Hankinson-Phillips':\n",
    "        if ppr>=0.4 and ppr<5:\n",
    "            A=[0,0.001290236,0.38193005,0.022199287,0.12215481,-0.015674794,0.027271364,0.023834219,0.43617780]\n",
    "        elif ppr>=5 and ppr<15:\n",
    "            A=[0,0.0014507882,0.37922269,0.024181399,0.1812287,0.037905663,0.19845016,0.048911693,0.0631425417]\n",
    "        c1=A[4]*tpr-A[2]-(A[6]/(tpr**2))\n",
    "        c2=A[3]*tpr-A[1]\n",
    "        c3=(A[1]*A[5]*A[7]*(ppr**5))/(tpr**6)\n",
    "        c4=(A[8]*(ppr**2))/(tpr**2)\n",
    "        z1=1\n",
    "        e=1\n",
    "        while e>(10**-17): \n",
    "            z0=z1\n",
    "            fz=(1/z0)-1+c1*ppr/((z0**2)*(Tpr**2))+c2*(ppr**2)/((z0**3)*(Tpr**3))+c3*(1+(c4/(z0**2)))*np.exp(-c4/(z0**2))\n",
    "            fzprime=(-z0**(-2))-2*c1*ppr/((z0**3)*(Tpr**2))-3*c2*(ppr**2)/((z0**4)*(Tpr**3))+c3*np.exp(-c4/(z0**2))*((2*c4*(z0**-1))*((z0**-6)+c4*(z0**-8))-(6*(z0**-7)+8*c4*(z0**-9)))\n",
    "            z1=z0-(fz/fzprime)\n",
    "            e=np.abs(z1-z0)\n",
    "        zfactor = z1\n",
    "        return zfactor\n",
    "    #Beggs and Brill (1973)\n",
    "    elif method == 'Beggs and Brill':\n",
    "        A=1.39*((tpr-0.92)**0.5)-0.36*tpr-0.101\n",
    "        B=(0.62-0.23*tpr)*ppr+((0.066/(tpr-0.86))-0.037)*(ppr**2)+(0.32/(10**(9*(tpr-1))))*(ppr**2)\n",
    "        C=0.132-0.32*(np.log10(tpr))\n",
    "        D=10**(0.3016-0.49*tpr+0.1824*(tpr**2))\n",
    "        zfactor = A+(1-A)/(np.exp(B))+C*(ppr**D)\n",
    "        return zfactor\n",
    "    else :\n",
    "        raise NameError (\"Unrecognized method. The available methods are 'papay', 'hally', 'DAK', 'DPR', 'hankinson', 'beggs' \")"
   ]
  },
  {
   "cell_type": "markdown",
   "metadata": {},
   "source": [
    "### Input Data"
   ]
  },
  {
   "cell_type": "code",
   "execution_count": 5,
   "metadata": {},
   "outputs": [],
   "source": [
    "sgg = 0.75\n",
    "temp = 210 + 460"
   ]
  },
  {
   "cell_type": "markdown",
   "metadata": {},
   "source": [
    "### Calculations of P/Z"
   ]
  },
  {
   "cell_type": "code",
   "execution_count": 6,
   "metadata": {},
   "outputs": [],
   "source": [
    "pc, tc = CriticalPT(sgg)\n",
    "tpr = temp/tc\n",
    "data['ppr'] = data['pressure']/pc\n",
    "data['tpr'] = [tpr]*len(data)\n",
    "z = []\n",
    "for i in range (len(data)):\n",
    "    z.append(zFactor(data['ppr'].values[i], data['tpr'].values[i], method='Beggs and Brill'))\n",
    "data['z'] = z\n",
    "data['p/z'] = data['pressure']/data['z']"
   ]
  },
  {
   "cell_type": "markdown",
   "metadata": {},
   "source": [
    "### Curve Fitting"
   ]
  },
  {
   "cell_type": "code",
   "execution_count": 7,
   "metadata": {},
   "outputs": [
    {
     "name": "stdout",
     "output_type": "stream",
     "text": [
      "IGIP :  1722.5627673660522\n"
     ]
    }
   ],
   "source": [
    "coef = np.polyfit(data['cumulative'], data['p/z'], deg=1)\n",
    "p_over_z = [i for i in range (0,int(max(data['p/z'])),100)]\n",
    "gp = [(pz - coef[1])/coef[0] for pz in p_over_z]\n",
    "print(\"IGIP : \", gp[0])"
   ]
  },
  {
   "cell_type": "markdown",
   "metadata": {},
   "source": [
    "### Model Plot"
   ]
  },
  {
   "cell_type": "code",
   "execution_count": 8,
   "metadata": {},
   "outputs": [
    {
     "data": {
      "image/png": "[encoded data removed]",
      "text/plain": [
       "<Figure size 768x432 with 1 Axes>"
      ]
     },
     "metadata": {},
     "output_type": "display_data"
    }
   ],
   "source": [
    "plt.figure(figsize=(16/1.5,9/1.5))\n",
    "plt.scatter(data['cumulative'], data['p/z'])\n",
    "plt.plot(gp, p_over_z)\n",
    "plt.xlabel('Gas Cumulative Production')\n",
    "plt.ylabel('P/Z')\n",
    "plt.title('P/Z vs Gp')\n",
    "plt.show()"
   ]
  },
  {
   "cell_type": "code",
   "execution_count": null,
   "metadata": {},
   "outputs": [],
   "source": []
  }
 ],
 "metadata": {
  "kernelspec": {
   "display_name": "Python 3",
   "language": "python",
   "name": "python3"
  },
  "language_info": {
   "codemirror_mode": {
    "name": "ipython",
    "version": 3
   },
   "file_extension": ".py",
   "mimetype": "text/x-python",
   "name": "python",
   "nbconvert_exporter": "python",
   "pygments_lexer": "ipython3",
   "version": "3.9.2"
  }
 },
 "nbformat": 4,
 "nbformat_minor": 4
}
